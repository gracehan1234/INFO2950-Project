{
 "cells": [
  {
   "cell_type": "markdown",
   "metadata": {},
   "source": [
    "# Part 1. Comparing across continents\n",
    "\n",
    "In this section, we aim to visually display the daily total confirmed cases of COVID-19 from the beginning of the outbreak around 12/31/19 to 04/29/20 in each six continents. Then, we analyzed the data using summmary functions by computing the mean, standard deviation, and rate of increase in each continent. "
   ]
  },
  {
   "cell_type": "code",
   "execution_count": 1,
   "metadata": {},
   "outputs": [],
   "source": [
    "import numpy as np\n",
    "import pandas as pd\n",
    "import matplotlib.pyplot as plt\n",
    "from sklearn.linear_model import LinearRegression"
   ]
  },
  {
   "cell_type": "code",
   "execution_count": 2,
   "metadata": {},
   "outputs": [
    {
     "data": {
      "text/html": [
       "<div>\n",
       "<style scoped>\n",
       "    .dataframe tbody tr th:only-of-type {\n",
       "        vertical-align: middle;\n",
       "    }\n",
       "\n",
       "    .dataframe tbody tr th {\n",
       "        vertical-align: top;\n",
       "    }\n",
       "\n",
       "    .dataframe thead th {\n",
       "        text-align: right;\n",
       "    }\n",
       "</style>\n",
       "<table border=\"1\" class=\"dataframe\">\n",
       "  <thead>\n",
       "    <tr style=\"text-align: right;\">\n",
       "      <th></th>\n",
       "      <th>Unnamed: 0</th>\n",
       "      <th>Entity</th>\n",
       "      <th>Code</th>\n",
       "      <th>Date</th>\n",
       "      <th>Total_confirmed_cases</th>\n",
       "    </tr>\n",
       "  </thead>\n",
       "  <tbody>\n",
       "    <tr>\n",
       "      <td>0</td>\n",
       "      <td>545</td>\n",
       "      <td>Asia</td>\n",
       "      <td>NaN</td>\n",
       "      <td>31-Dec-19</td>\n",
       "      <td>27</td>\n",
       "    </tr>\n",
       "    <tr>\n",
       "      <td>1</td>\n",
       "      <td>546</td>\n",
       "      <td>Asia</td>\n",
       "      <td>NaN</td>\n",
       "      <td>1-Jan-20</td>\n",
       "      <td>27</td>\n",
       "    </tr>\n",
       "    <tr>\n",
       "      <td>2</td>\n",
       "      <td>547</td>\n",
       "      <td>Asia</td>\n",
       "      <td>NaN</td>\n",
       "      <td>2-Jan-20</td>\n",
       "      <td>27</td>\n",
       "    </tr>\n",
       "    <tr>\n",
       "      <td>3</td>\n",
       "      <td>548</td>\n",
       "      <td>Asia</td>\n",
       "      <td>NaN</td>\n",
       "      <td>3-Jan-20</td>\n",
       "      <td>44</td>\n",
       "    </tr>\n",
       "    <tr>\n",
       "      <td>4</td>\n",
       "      <td>549</td>\n",
       "      <td>Asia</td>\n",
       "      <td>NaN</td>\n",
       "      <td>4-Jan-20</td>\n",
       "      <td>44</td>\n",
       "    </tr>\n",
       "  </tbody>\n",
       "</table>\n",
       "</div>"
      ],
      "text/plain": [
       "   Unnamed: 0 Entity  Code       Date  Total_confirmed_cases\n",
       "0         545   Asia   NaN  31-Dec-19                     27\n",
       "1         546   Asia   NaN   1-Jan-20                     27\n",
       "2         547   Asia   NaN   2-Jan-20                     27\n",
       "3         548   Asia   NaN   3-Jan-20                     44\n",
       "4         549   Asia   NaN   4-Jan-20                     44"
      ]
     },
     "execution_count": 2,
     "metadata": {},
     "output_type": "execute_result"
    }
   ],
   "source": [
    "covid_continents = pd.read_csv(\"covid_continents.csv\")\n",
    "covid_continents.head()"
   ]
  },
  {
   "cell_type": "code",
   "execution_count": 3,
   "metadata": {},
   "outputs": [
    {
     "data": {
      "text/html": [
       "<div>\n",
       "<style scoped>\n",
       "    .dataframe tbody tr th:only-of-type {\n",
       "        vertical-align: middle;\n",
       "    }\n",
       "\n",
       "    .dataframe tbody tr th {\n",
       "        vertical-align: top;\n",
       "    }\n",
       "\n",
       "    .dataframe thead th {\n",
       "        text-align: right;\n",
       "    }\n",
       "</style>\n",
       "<table border=\"1\" class=\"dataframe\">\n",
       "  <thead>\n",
       "    <tr style=\"text-align: right;\">\n",
       "      <th></th>\n",
       "      <th>Date</th>\n",
       "      <th>Total_confirmed_cases</th>\n",
       "      <th>Log_total_confirmed_cases</th>\n",
       "      <th>Daysafter</th>\n",
       "    </tr>\n",
       "    <tr>\n",
       "      <th>Continent</th>\n",
       "      <th></th>\n",
       "      <th></th>\n",
       "      <th></th>\n",
       "      <th></th>\n",
       "    </tr>\n",
       "  </thead>\n",
       "  <tbody>\n",
       "    <tr>\n",
       "      <td>Asia</td>\n",
       "      <td>2019-12-31</td>\n",
       "      <td>27</td>\n",
       "      <td>3.295837</td>\n",
       "      <td>0</td>\n",
       "    </tr>\n",
       "    <tr>\n",
       "      <td>Asia</td>\n",
       "      <td>2020-01-01</td>\n",
       "      <td>27</td>\n",
       "      <td>3.295837</td>\n",
       "      <td>1</td>\n",
       "    </tr>\n",
       "    <tr>\n",
       "      <td>Asia</td>\n",
       "      <td>2020-01-02</td>\n",
       "      <td>27</td>\n",
       "      <td>3.295837</td>\n",
       "      <td>2</td>\n",
       "    </tr>\n",
       "    <tr>\n",
       "      <td>Asia</td>\n",
       "      <td>2020-01-03</td>\n",
       "      <td>44</td>\n",
       "      <td>3.784190</td>\n",
       "      <td>3</td>\n",
       "    </tr>\n",
       "    <tr>\n",
       "      <td>Asia</td>\n",
       "      <td>2020-01-04</td>\n",
       "      <td>44</td>\n",
       "      <td>3.784190</td>\n",
       "      <td>4</td>\n",
       "    </tr>\n",
       "  </tbody>\n",
       "</table>\n",
       "</div>"
      ],
      "text/plain": [
       "                Date  Total_confirmed_cases  Log_total_confirmed_cases  \\\n",
       "Continent                                                                \n",
       "Asia      2019-12-31                     27                   3.295837   \n",
       "Asia      2020-01-01                     27                   3.295837   \n",
       "Asia      2020-01-02                     27                   3.295837   \n",
       "Asia      2020-01-03                     44                   3.784190   \n",
       "Asia      2020-01-04                     44                   3.784190   \n",
       "\n",
       "           Daysafter  \n",
       "Continent             \n",
       "Asia               0  \n",
       "Asia               1  \n",
       "Asia               2  \n",
       "Asia               3  \n",
       "Asia               4  "
      ]
     },
     "execution_count": 3,
     "metadata": {},
     "output_type": "execute_result"
    }
   ],
   "source": [
    "# Select wanted columns only\n",
    "covid_continents = covid_continents[['Entity', 'Date', 'Total_confirmed_cases']]\n",
    "\n",
    "# Rename the column \"Entity\" to \"Continent\"\n",
    "covid_continents = covid_continents.rename(columns = {'Entity': 'Continent'})\n",
    "\n",
    "# Set the column \"Continent\" as the index\n",
    "covid_continents.set_index('Continent', inplace=True, drop=True)\n",
    "\n",
    "# Compute the log of total confirmed cases and add the log column to df\n",
    "covid_continents[\"Log_total_confirmed_cases\"] = np.log(covid_continents.Total_confirmed_cases)\n",
    "\n",
    "# Convert date to number of days after 12/31/19 and add that column to df\n",
    "# Acknowledge Prof.Mimno's code\n",
    "covid_continents[\"Date\"] = pd.to_datetime(covid_continents[\"Date\"])\n",
    "start_date = pd.Timestamp(\"2019-12-31\")\n",
    "covid_continents[\"Daysafter\"] = (covid_continents[\"Date\"] - start_date).dt.days\n",
    "\n",
    "covid_continents.head()"
   ]
  },
  {
   "cell_type": "markdown",
   "metadata": {},
   "source": [
    "## Total confirmed cases in 6 continents"
   ]
  },
  {
   "cell_type": "code",
   "execution_count": 4,
   "metadata": {
    "scrolled": false
   },
   "outputs": [
    {
     "data": {
      "image/png": "[encoded data removed]",
      "text/plain": [
       "<Figure size 720x432 with 1 Axes>"
      ]
     },
     "metadata": {
      "needs_background": "light"
     },
     "output_type": "display_data"
    }
   ],
   "source": [
    "plt.figure(figsize=(10,6))\n",
    "\n",
    "plt.plot(covid_continents.loc[\"Asia\"].Daysafter, covid_continents.loc[\"Asia\"].Total_confirmed_cases, label=\"Asia\")\n",
    "plt.plot(covid_continents.loc[\"North America\"].Daysafter, covid_continents.loc[\"North America\"].Total_confirmed_cases, label=\"North America\")\n",
    "plt.plot(covid_continents.loc[\"South America\"].Daysafter, covid_continents.loc[\"South America\"].Total_confirmed_cases, label=\"South America\")\n",
    "plt.plot(covid_continents.loc[\"Europe\"].Daysafter, covid_continents.loc[\"Europe\"].Total_confirmed_cases, label=\"Europe\")\n",
    "plt.plot(covid_continents.loc[\"Africa\"].Daysafter, covid_continents.loc[\"Africa\"].Total_confirmed_cases, label=\"Africa\")\n",
    "plt.plot(covid_continents.loc[\"Oceania\"].Daysafter, covid_continents.loc[\"Oceania\"].Total_confirmed_cases, label=\"Oceania\")\n",
    "\n",
    "plt.legend(loc=\"upper left\")\n",
    "plt.title(\"Total confirmed cases of COVID-19 vs. Number of days after outbreak\")\n",
    "plt.xlabel(\"Number of days after 12/31/19\")\n",
    "plt.ylabel(\"Total confirmed cases\")\n",
    "plt.show()"
   ]
  },
  {
   "cell_type": "markdown",
   "metadata": {},
   "source": [
    "## Log of total confirmed cases in 6 continents - comparing the rate of increase\n",
    "\n",
    "Computing log transforms an exponential growth to a linear growth"
   ]
  },
  {
   "cell_type": "code",
   "execution_count": 5,
   "metadata": {},
   "outputs": [
    {
     "data": {
      "image/png": "[encoded data removed]",
      "text/plain": [
       "<Figure size 720x432 with 1 Axes>"
      ]
     },
     "metadata": {
      "needs_background": "light"
     },
     "output_type": "display_data"
    }
   ],
   "source": [
    "plt.figure(figsize=(10,6))\n",
    "\n",
    "plt.plot(covid_continents.loc[\"Asia\"].Daysafter, covid_continents.loc[\"Asia\"].Log_total_confirmed_cases, label=\"Asia\")\n",
    "plt.plot(covid_continents.loc[\"North America\"].Daysafter, covid_continents.loc[\"North America\"].Log_total_confirmed_cases, label=\"North America\")\n",
    "plt.plot(covid_continents.loc[\"South America\"].Daysafter, covid_continents.loc[\"South America\"].Log_total_confirmed_cases, label=\"South America\")\n",
    "plt.plot(covid_continents.loc[\"Europe\"].Daysafter, covid_continents.loc[\"Europe\"].Log_total_confirmed_cases, label=\"Europe\")\n",
    "plt.plot(covid_continents.loc[\"Africa\"].Daysafter, covid_continents.loc[\"Africa\"].Log_total_confirmed_cases, label=\"Africa\")\n",
    "plt.plot(covid_continents.loc[\"Oceania\"].Daysafter, covid_continents.loc[\"Oceania\"].Log_total_confirmed_cases, label=\"Oceania\")\n",
    "\n",
    "plt.legend(loc=\"upper left\")\n",
    "plt.title(\"Log of total confirmed cases of COVID-19 vs. Number of days after outbreak\")\n",
    "plt.xlabel(\"Number of days after 12/31/19\")\n",
    "plt.ylabel(\"Log of total confirmed cases\")\n",
    "plt.show()"
   ]
  },
  {
   "cell_type": "code",
   "execution_count": 6,
   "metadata": {},
   "outputs": [],
   "source": [
    "# Create a function that returns the number of initial cases and the growth rate up to a certain day\n",
    "\n",
    "def summary(continent, day):\n",
    "    print(continent)\n",
    "    covid = covid_continents.loc[continent]\n",
    "    \n",
    "    # nested function that calculates the slope, coeficcient, and r^2 value\n",
    "    # Acknowledge Prof.Mimno's code\n",
    "    def lm(df, inputs, output):\n",
    "        model = LinearRegression().fit(df[inputs], df[output])\n",
    "        coef_strings = [\"{:.2f}\".format(coefficient) for coefficient in model.coef_]\n",
    "        r2_score = model.score(df[inputs], df[output])\n",
    "        print(\"coefficients: {} intercept: {:.2f};   r^2: {:.2f}\"\n",
    "              .format(\", \".join(coef_strings), model.intercept_, r2_score))\n",
    "        return model.intercept_, coef_strings[0]\n",
    "       \n",
    "    print(\"\\nBefore Day {}\".format(day))\n",
    "    model_before = lm(covid[ covid[\"Daysafter\"] < day], [\"Daysafter\"],\"Log_total_confirmed_cases\" )\n",
    "    print(\"initial cases: {:.1f}, growth rate: {:.0f}%\".format(np.exp(model_before[0]), 100 * (np.exp(float(model_before[1])) - 1)))\n",
    "    \n",
    "    print(\"\\nAfter Day {}\".format(day))\n",
    "    model_after = lm(covid[ covid[\"Daysafter\"] > day], [\"Daysafter\"],\"Log_total_confirmed_cases\" )\n",
    "    print(\"initial cases: {:.1f}, growth rate: {:.0f}%\".format(np.exp(model_after[0]), 100 * (np.exp(float(model_after[1])) - 1)))"
   ]
  },
  {
   "cell_type": "markdown",
   "metadata": {},
   "source": [
    "## Using trial and error to find out the number of days each continent took to flatten out the curve"
   ]
  },
  {
   "cell_type": "code",
   "execution_count": 7,
   "metadata": {},
   "outputs": [
    {
     "name": "stdout",
     "output_type": "stream",
     "text": [
      "Asia\n",
      "\n",
      "Before Day 50\n",
      "coefficients: 0.20 intercept: 2.35;   r^2: 0.95\n",
      "initial cases: 10.5, growth rate: 22%\n",
      "\n",
      "After Day 50\n",
      "coefficients: 0.03 intercept: 9.47;   r^2: 0.96\n",
      "initial cases: 12921.4, growth rate: 3%\n"
     ]
    }
   ],
   "source": [
    "summary(\"Asia\", 50)"
   ]
  },
  {
   "cell_type": "code",
   "execution_count": 8,
   "metadata": {},
   "outputs": [
    {
     "name": "stdout",
     "output_type": "stream",
     "text": [
      "Africa\n",
      "\n",
      "Before Day 95\n",
      "coefficients: 0.22 intercept: -11.39;   r^2: 0.98\n",
      "initial cases: 0.0, growth rate: 25%\n",
      "\n",
      "After Day 95\n",
      "coefficients: 0.06 intercept: 3.47;   r^2: 1.00\n",
      "initial cases: 32.2, growth rate: 6%\n"
     ]
    }
   ],
   "source": [
    "summary(\"Africa\", 95)"
   ]
  },
  {
   "cell_type": "code",
   "execution_count": 9,
   "metadata": {},
   "outputs": [
    {
     "name": "stdout",
     "output_type": "stream",
     "text": [
      "Europe\n",
      "\n",
      "Before Day 93\n",
      "coefficients: 0.19 intercept: -4.20;   r^2: 0.96\n",
      "initial cases: 0.0, growth rate: 21%\n",
      "\n",
      "After Day 93\n",
      "coefficients: 0.03 intercept: 10.13;   r^2: 0.97\n",
      "initial cases: 24990.1, growth rate: 3%\n"
     ]
    }
   ],
   "source": [
    "summary(\"Europe\", 93)"
   ]
  },
  {
   "cell_type": "code",
   "execution_count": 10,
   "metadata": {},
   "outputs": [
    {
     "name": "stdout",
     "output_type": "stream",
     "text": [
      "North America\n",
      "\n",
      "Before Day 108\n",
      "coefficients: 0.17 intercept: -4.11;   r^2: 0.96\n",
      "initial cases: 0.0, growth rate: 19%\n",
      "\n",
      "After Day 108\n",
      "coefficients: 0.03 intercept: 9.81;   r^2: 1.00\n",
      "initial cases: 18223.6, growth rate: 3%\n"
     ]
    }
   ],
   "source": [
    "summary(\"North America\", 108)"
   ]
  },
  {
   "cell_type": "code",
   "execution_count": 11,
   "metadata": {},
   "outputs": [
    {
     "name": "stdout",
     "output_type": "stream",
     "text": [
      "South America\n",
      "\n",
      "Before Day 83\n",
      "coefficients: 0.34 intercept: -19.22;   r^2: 0.99\n",
      "initial cases: 0.0, growth rate: 40%\n",
      "\n",
      "After Day 83\n",
      "coefficients: 0.09 intercept: 1.12;   r^2: 0.98\n",
      "initial cases: 3.1, growth rate: 9%\n"
     ]
    }
   ],
   "source": [
    "summary(\"South America\", 83)"
   ]
  },
  {
   "cell_type": "code",
   "execution_count": 12,
   "metadata": {
    "scrolled": true
   },
   "outputs": [
    {
     "name": "stdout",
     "output_type": "stream",
     "text": [
      "Oceania\n",
      "\n",
      "Before Day 105\n",
      "coefficients: 0.11 intercept: -2.24;   r^2: 0.93\n",
      "initial cases: 0.1, growth rate: 12%\n",
      "\n",
      "After Day 105\n",
      "coefficients: 0.00 intercept: 8.61;   r^2: 0.94\n",
      "initial cases: 5469.6, growth rate: 0%\n"
     ]
    }
   ],
   "source": [
    "summary(\"Oceania\", 105)"
   ]
  },
  {
   "cell_type": "markdown",
   "metadata": {},
   "source": [
    "# Part 2. Comparing across countries\n",
    "\n",
    "We found out that the three countinents with the highest total confirmed cases are Europe, North America, and Asia. Next, we want to analyze specific countries within each continent and determine what factors have the most influence on the spread of COVID-19. To do so, we will pick the top 10 countries with the highest total confirmed cases in each continent. Together, we will be comparing across 30 countries. "
   ]
  },
  {
   "cell_type": "code",
   "execution_count": 13,
   "metadata": {},
   "outputs": [
    {
     "data": {
      "text/html": [
       "<div>\n",
       "<style scoped>\n",
       "    .dataframe tbody tr th:only-of-type {\n",
       "        vertical-align: middle;\n",
       "    }\n",
       "\n",
       "    .dataframe tbody tr th {\n",
       "        vertical-align: top;\n",
       "    }\n",
       "\n",
       "    .dataframe thead th {\n",
       "        text-align: right;\n",
       "    }\n",
       "</style>\n",
       "<table border=\"1\" class=\"dataframe\">\n",
       "  <thead>\n",
       "    <tr style=\"text-align: right;\">\n",
       "      <th></th>\n",
       "      <th>Unnamed: 0</th>\n",
       "      <th>Entity</th>\n",
       "      <th>Code</th>\n",
       "      <th>Date</th>\n",
       "      <th>Total_confirmed_cases</th>\n",
       "      <th>Continent</th>\n",
       "    </tr>\n",
       "  </thead>\n",
       "  <tbody>\n",
       "    <tr>\n",
       "      <td>0</td>\n",
       "      <td>54</td>\n",
       "      <td>Afghanistan</td>\n",
       "      <td>AFG</td>\n",
       "      <td>29-Apr-20</td>\n",
       "      <td>1827</td>\n",
       "      <td>AS</td>\n",
       "    </tr>\n",
       "    <tr>\n",
       "      <td>1</td>\n",
       "      <td>181</td>\n",
       "      <td>Albania</td>\n",
       "      <td>ALB</td>\n",
       "      <td>29-Apr-20</td>\n",
       "      <td>750</td>\n",
       "      <td>EU</td>\n",
       "    </tr>\n",
       "    <tr>\n",
       "      <td>2</td>\n",
       "      <td>240</td>\n",
       "      <td>Algeria</td>\n",
       "      <td>DZA</td>\n",
       "      <td>29-Apr-20</td>\n",
       "      <td>3649</td>\n",
       "      <td>AF</td>\n",
       "    </tr>\n",
       "    <tr>\n",
       "      <td>3</td>\n",
       "      <td>287</td>\n",
       "      <td>Andorra</td>\n",
       "      <td>AND</td>\n",
       "      <td>29-Apr-20</td>\n",
       "      <td>748</td>\n",
       "      <td>EU</td>\n",
       "    </tr>\n",
       "    <tr>\n",
       "      <td>4</td>\n",
       "      <td>326</td>\n",
       "      <td>Angola</td>\n",
       "      <td>AGO</td>\n",
       "      <td>29-Apr-20</td>\n",
       "      <td>27</td>\n",
       "      <td>AF</td>\n",
       "    </tr>\n",
       "  </tbody>\n",
       "</table>\n",
       "</div>"
      ],
      "text/plain": [
       "   Unnamed: 0       Entity Code       Date  Total_confirmed_cases Continent\n",
       "0          54  Afghanistan  AFG  29-Apr-20                   1827        AS\n",
       "1         181      Albania  ALB  29-Apr-20                    750        EU\n",
       "2         240      Algeria  DZA  29-Apr-20                   3649        AF\n",
       "3         287      Andorra  AND  29-Apr-20                    748        EU\n",
       "4         326       Angola  AGO  29-Apr-20                     27        AF"
      ]
     },
     "execution_count": 13,
     "metadata": {},
     "output_type": "execute_result"
    }
   ],
   "source": [
    "countries_0429 = pd.read_csv(\"countries_0429.csv\", keep_default_na=False)\n",
    "countries_0429.head()"
   ]
  },
  {
   "cell_type": "code",
   "execution_count": 14,
   "metadata": {},
   "outputs": [
    {
     "data": {
      "text/html": [
       "<div>\n",
       "<style scoped>\n",
       "    .dataframe tbody tr th:only-of-type {\n",
       "        vertical-align: middle;\n",
       "    }\n",
       "\n",
       "    .dataframe tbody tr th {\n",
       "        vertical-align: top;\n",
       "    }\n",
       "\n",
       "    .dataframe thead th {\n",
       "        text-align: right;\n",
       "    }\n",
       "</style>\n",
       "<table border=\"1\" class=\"dataframe\">\n",
       "  <thead>\n",
       "    <tr style=\"text-align: right;\">\n",
       "      <th></th>\n",
       "      <th>Date</th>\n",
       "      <th>Continent</th>\n",
       "      <th>Total_confirmed_cases</th>\n",
       "      <th>Log_total_confirmed_cases</th>\n",
       "    </tr>\n",
       "    <tr>\n",
       "      <th>Country</th>\n",
       "      <th></th>\n",
       "      <th></th>\n",
       "      <th></th>\n",
       "      <th></th>\n",
       "    </tr>\n",
       "  </thead>\n",
       "  <tbody>\n",
       "    <tr>\n",
       "      <td>Afghanistan</td>\n",
       "      <td>29-Apr-20</td>\n",
       "      <td>AS</td>\n",
       "      <td>1827</td>\n",
       "      <td>7.510431</td>\n",
       "    </tr>\n",
       "    <tr>\n",
       "      <td>Albania</td>\n",
       "      <td>29-Apr-20</td>\n",
       "      <td>EU</td>\n",
       "      <td>750</td>\n",
       "      <td>6.620073</td>\n",
       "    </tr>\n",
       "    <tr>\n",
       "      <td>Algeria</td>\n",
       "      <td>29-Apr-20</td>\n",
       "      <td>AF</td>\n",
       "      <td>3649</td>\n",
       "      <td>8.202208</td>\n",
       "    </tr>\n",
       "    <tr>\n",
       "      <td>Andorra</td>\n",
       "      <td>29-Apr-20</td>\n",
       "      <td>EU</td>\n",
       "      <td>748</td>\n",
       "      <td>6.617403</td>\n",
       "    </tr>\n",
       "    <tr>\n",
       "      <td>Angola</td>\n",
       "      <td>29-Apr-20</td>\n",
       "      <td>AF</td>\n",
       "      <td>27</td>\n",
       "      <td>3.295837</td>\n",
       "    </tr>\n",
       "  </tbody>\n",
       "</table>\n",
       "</div>"
      ],
      "text/plain": [
       "                  Date Continent  Total_confirmed_cases  \\\n",
       "Country                                                   \n",
       "Afghanistan  29-Apr-20        AS                   1827   \n",
       "Albania      29-Apr-20        EU                    750   \n",
       "Algeria      29-Apr-20        AF                   3649   \n",
       "Andorra      29-Apr-20        EU                    748   \n",
       "Angola       29-Apr-20        AF                     27   \n",
       "\n",
       "             Log_total_confirmed_cases  \n",
       "Country                                 \n",
       "Afghanistan                   7.510431  \n",
       "Albania                       6.620073  \n",
       "Algeria                       8.202208  \n",
       "Andorra                       6.617403  \n",
       "Angola                        3.295837  "
      ]
     },
     "execution_count": 14,
     "metadata": {},
     "output_type": "execute_result"
    }
   ],
   "source": [
    "# Select wanted columns only\n",
    "countries_0429 = countries_0429[['Entity', 'Date', 'Continent','Total_confirmed_cases']]\n",
    "\n",
    "# Rename the column \"Entity\" to \"Continent\"\n",
    "countries_0429 = countries_0429.rename(columns = {'Entity': 'Country'})\n",
    "\n",
    "# Set the column \"Continent\" as the index\n",
    "countries_0429.set_index('Country', inplace=True, drop=True)\n",
    "\n",
    "# Compute the log of total confirmed cases and add the log column to df\n",
    "countries_0429[\"Log_total_confirmed_cases\"] = np.log(countries_0429.Total_confirmed_cases)\n",
    "\n",
    "countries_0429.head()"
   ]
  },
  {
   "cell_type": "code",
   "execution_count": 15,
   "metadata": {},
   "outputs": [],
   "source": [
    "# Create three dataframes of all the countries in Europe, North America, and Asia\n",
    "europe = pd.DataFrame()\n",
    "north_america = pd.DataFrame()\n",
    "asia = pd.DataFrame()\n",
    "\n",
    "for i in range(len(countries_0429)):\n",
    "    if countries_0429.iloc[i].Continent == 'EU':\n",
    "        europe = europe.append(countries_0429.iloc[i])\n",
    "    if countries_0429.iloc[i].Continent == 'NA':\n",
    "        north_america = north_america.append(countries_0429.iloc[i])\n",
    "    if countries_0429.iloc[i].Continent == 'AS':\n",
    "        asia = asia.append(countries_0429.iloc[i])"
   ]
  },
  {
   "cell_type": "code",
   "execution_count": 16,
   "metadata": {},
   "outputs": [
    {
     "name": "stdout",
     "output_type": "stream",
     "text": [
      "Europe\n",
      "mean of total confirmed cases: 22323\n",
      "standard deviation of total confirmed cases: 46101.39\n"
     ]
    },
    {
     "data": {
      "text/html": [
       "<div>\n",
       "<style scoped>\n",
       "    .dataframe tbody tr th:only-of-type {\n",
       "        vertical-align: middle;\n",
       "    }\n",
       "\n",
       "    .dataframe tbody tr th {\n",
       "        vertical-align: top;\n",
       "    }\n",
       "\n",
       "    .dataframe thead th {\n",
       "        text-align: right;\n",
       "    }\n",
       "</style>\n",
       "<table border=\"1\" class=\"dataframe\">\n",
       "  <thead>\n",
       "    <tr style=\"text-align: right;\">\n",
       "      <th></th>\n",
       "      <th>Continent</th>\n",
       "      <th>Date</th>\n",
       "      <th>Log_total_confirmed_cases</th>\n",
       "      <th>Total_confirmed_cases</th>\n",
       "    </tr>\n",
       "  </thead>\n",
       "  <tbody>\n",
       "    <tr>\n",
       "      <td>Italy</td>\n",
       "      <td>EU</td>\n",
       "      <td>29-Apr-20</td>\n",
       "      <td>12.213569</td>\n",
       "      <td>201505.0</td>\n",
       "    </tr>\n",
       "    <tr>\n",
       "      <td>United Kingdom</td>\n",
       "      <td>EU</td>\n",
       "      <td>29-Apr-20</td>\n",
       "      <td>11.990060</td>\n",
       "      <td>161145.0</td>\n",
       "    </tr>\n",
       "    <tr>\n",
       "      <td>Germany</td>\n",
       "      <td>EU</td>\n",
       "      <td>29-Apr-20</td>\n",
       "      <td>11.968076</td>\n",
       "      <td>157641.0</td>\n",
       "    </tr>\n",
       "    <tr>\n",
       "      <td>France</td>\n",
       "      <td>EU</td>\n",
       "      <td>29-Apr-20</td>\n",
       "      <td>11.750642</td>\n",
       "      <td>126835.0</td>\n",
       "    </tr>\n",
       "    <tr>\n",
       "      <td>Russia</td>\n",
       "      <td>EU</td>\n",
       "      <td>29-Apr-20</td>\n",
       "      <td>11.446337</td>\n",
       "      <td>93558.0</td>\n",
       "    </tr>\n",
       "    <tr>\n",
       "      <td>Belgium</td>\n",
       "      <td>EU</td>\n",
       "      <td>29-Apr-20</td>\n",
       "      <td>10.764984</td>\n",
       "      <td>47334.0</td>\n",
       "    </tr>\n",
       "    <tr>\n",
       "      <td>Netherlands</td>\n",
       "      <td>EU</td>\n",
       "      <td>29-Apr-20</td>\n",
       "      <td>10.556229</td>\n",
       "      <td>38416.0</td>\n",
       "    </tr>\n",
       "    <tr>\n",
       "      <td>Switzerland</td>\n",
       "      <td>EU</td>\n",
       "      <td>29-Apr-20</td>\n",
       "      <td>10.281273</td>\n",
       "      <td>29181.0</td>\n",
       "    </tr>\n",
       "    <tr>\n",
       "      <td>Portugal</td>\n",
       "      <td>EU</td>\n",
       "      <td>29-Apr-20</td>\n",
       "      <td>10.099137</td>\n",
       "      <td>24322.0</td>\n",
       "    </tr>\n",
       "    <tr>\n",
       "      <td>Ireland</td>\n",
       "      <td>EU</td>\n",
       "      <td>29-Apr-20</td>\n",
       "      <td>9.897319</td>\n",
       "      <td>19877.0</td>\n",
       "    </tr>\n",
       "  </tbody>\n",
       "</table>\n",
       "</div>"
      ],
      "text/plain": [
       "               Continent       Date  Log_total_confirmed_cases  \\\n",
       "Italy                 EU  29-Apr-20                  12.213569   \n",
       "United Kingdom        EU  29-Apr-20                  11.990060   \n",
       "Germany               EU  29-Apr-20                  11.968076   \n",
       "France                EU  29-Apr-20                  11.750642   \n",
       "Russia                EU  29-Apr-20                  11.446337   \n",
       "Belgium               EU  29-Apr-20                  10.764984   \n",
       "Netherlands           EU  29-Apr-20                  10.556229   \n",
       "Switzerland           EU  29-Apr-20                  10.281273   \n",
       "Portugal              EU  29-Apr-20                  10.099137   \n",
       "Ireland               EU  29-Apr-20                   9.897319   \n",
       "\n",
       "                Total_confirmed_cases  \n",
       "Italy                        201505.0  \n",
       "United Kingdom               161145.0  \n",
       "Germany                      157641.0  \n",
       "France                       126835.0  \n",
       "Russia                        93558.0  \n",
       "Belgium                       47334.0  \n",
       "Netherlands                   38416.0  \n",
       "Switzerland                   29181.0  \n",
       "Portugal                      24322.0  \n",
       "Ireland                       19877.0  "
      ]
     },
     "execution_count": 16,
     "metadata": {},
     "output_type": "execute_result"
    }
   ],
   "source": [
    "# Compute the mean and standard deviation of the total confirmed cases in North America\n",
    "print(\"Europe\")\n",
    "print(\"mean of total confirmed cases: {:.0f}\".format(np.mean(europe.Total_confirmed_cases)))\n",
    "print(\"standard deviation of total confirmed cases: {:.2f}\".format(np.std(europe.Total_confirmed_cases)))\n",
    "\n",
    "# Print the top 10 countries in North America with the highest total confirmed cases\n",
    "europe.nlargest(10, ['Total_confirmed_cases'])"
   ]
  },
  {
   "cell_type": "code",
   "execution_count": 17,
   "metadata": {
    "scrolled": false
   },
   "outputs": [
    {
     "name": "stdout",
     "output_type": "stream",
     "text": [
      "North America\n",
      "mean of total confirmed cases: 32306\n",
      "standard deviation of total confirmed cases: 170871.99\n"
     ]
    },
    {
     "data": {
      "text/html": [
       "<div>\n",
       "<style scoped>\n",
       "    .dataframe tbody tr th:only-of-type {\n",
       "        vertical-align: middle;\n",
       "    }\n",
       "\n",
       "    .dataframe tbody tr th {\n",
       "        vertical-align: top;\n",
       "    }\n",
       "\n",
       "    .dataframe thead th {\n",
       "        text-align: right;\n",
       "    }\n",
       "</style>\n",
       "<table border=\"1\" class=\"dataframe\">\n",
       "  <thead>\n",
       "    <tr style=\"text-align: right;\">\n",
       "      <th></th>\n",
       "      <th>Continent</th>\n",
       "      <th>Date</th>\n",
       "      <th>Log_total_confirmed_cases</th>\n",
       "      <th>Total_confirmed_cases</th>\n",
       "    </tr>\n",
       "  </thead>\n",
       "  <tbody>\n",
       "    <tr>\n",
       "      <td>United States</td>\n",
       "      <td>NA</td>\n",
       "      <td>29-Apr-20</td>\n",
       "      <td>13.828015</td>\n",
       "      <td>1012583.0</td>\n",
       "    </tr>\n",
       "    <tr>\n",
       "      <td>Canada</td>\n",
       "      <td>NA</td>\n",
       "      <td>29-Apr-20</td>\n",
       "      <td>10.820078</td>\n",
       "      <td>50015.0</td>\n",
       "    </tr>\n",
       "    <tr>\n",
       "      <td>Mexico</td>\n",
       "      <td>NA</td>\n",
       "      <td>29-Apr-20</td>\n",
       "      <td>9.726273</td>\n",
       "      <td>16752.0</td>\n",
       "    </tr>\n",
       "    <tr>\n",
       "      <td>Dominican Republic</td>\n",
       "      <td>NA</td>\n",
       "      <td>29-Apr-20</td>\n",
       "      <td>8.766550</td>\n",
       "      <td>6416.0</td>\n",
       "    </tr>\n",
       "    <tr>\n",
       "      <td>Panama</td>\n",
       "      <td>NA</td>\n",
       "      <td>29-Apr-20</td>\n",
       "      <td>8.732305</td>\n",
       "      <td>6200.0</td>\n",
       "    </tr>\n",
       "    <tr>\n",
       "      <td>Cuba</td>\n",
       "      <td>NA</td>\n",
       "      <td>29-Apr-20</td>\n",
       "      <td>7.270313</td>\n",
       "      <td>1437.0</td>\n",
       "    </tr>\n",
       "    <tr>\n",
       "      <td>Puerto Rico</td>\n",
       "      <td>NA</td>\n",
       "      <td>29-Apr-20</td>\n",
       "      <td>7.244228</td>\n",
       "      <td>1400.0</td>\n",
       "    </tr>\n",
       "    <tr>\n",
       "      <td>Honduras</td>\n",
       "      <td>NA</td>\n",
       "      <td>29-Apr-20</td>\n",
       "      <td>6.603944</td>\n",
       "      <td>738.0</td>\n",
       "    </tr>\n",
       "    <tr>\n",
       "      <td>Costa Rica</td>\n",
       "      <td>NA</td>\n",
       "      <td>29-Apr-20</td>\n",
       "      <td>6.558198</td>\n",
       "      <td>705.0</td>\n",
       "    </tr>\n",
       "    <tr>\n",
       "      <td>Guatemala</td>\n",
       "      <td>NA</td>\n",
       "      <td>29-Apr-20</td>\n",
       "      <td>6.322565</td>\n",
       "      <td>557.0</td>\n",
       "    </tr>\n",
       "  </tbody>\n",
       "</table>\n",
       "</div>"
      ],
      "text/plain": [
       "                   Continent       Date  Log_total_confirmed_cases  \\\n",
       "United States             NA  29-Apr-20                  13.828015   \n",
       "Canada                    NA  29-Apr-20                  10.820078   \n",
       "Mexico                    NA  29-Apr-20                   9.726273   \n",
       "Dominican Republic        NA  29-Apr-20                   8.766550   \n",
       "Panama                    NA  29-Apr-20                   8.732305   \n",
       "Cuba                      NA  29-Apr-20                   7.270313   \n",
       "Puerto Rico               NA  29-Apr-20                   7.244228   \n",
       "Honduras                  NA  29-Apr-20                   6.603944   \n",
       "Costa Rica                NA  29-Apr-20                   6.558198   \n",
       "Guatemala                 NA  29-Apr-20                   6.322565   \n",
       "\n",
       "                    Total_confirmed_cases  \n",
       "United States                   1012583.0  \n",
       "Canada                            50015.0  \n",
       "Mexico                            16752.0  \n",
       "Dominican Republic                 6416.0  \n",
       "Panama                             6200.0  \n",
       "Cuba                               1437.0  \n",
       "Puerto Rico                        1400.0  \n",
       "Honduras                            738.0  \n",
       "Costa Rica                          705.0  \n",
       "Guatemala                           557.0  "
      ]
     },
     "execution_count": 17,
     "metadata": {},
     "output_type": "execute_result"
    }
   ],
   "source": [
    "# Compute the mean and standard deviation of the total confirmed cases in North America\n",
    "print(\"North America\")\n",
    "print(\"mean of total confirmed cases: {:.0f}\".format(np.mean(north_america.Total_confirmed_cases)))\n",
    "print(\"standard deviation of total confirmed cases: {:.2f}\".format(np.std(north_america.Total_confirmed_cases)))\n",
    "\n",
    "# Print the top 10 countries in North America with the highest total confirmed cases\n",
    "north_america.nlargest(10, ['Total_confirmed_cases'])"
   ]
  },
  {
   "cell_type": "code",
   "execution_count": 18,
   "metadata": {},
   "outputs": [
    {
     "name": "stdout",
     "output_type": "stream",
     "text": [
      "Asia\n",
      "mean of total confirmed cases: 11005\n",
      "standard deviation of total confirmed cases: 24155.86\n"
     ]
    },
    {
     "data": {
      "text/html": [
       "<div>\n",
       "<style scoped>\n",
       "    .dataframe tbody tr th:only-of-type {\n",
       "        vertical-align: middle;\n",
       "    }\n",
       "\n",
       "    .dataframe tbody tr th {\n",
       "        vertical-align: top;\n",
       "    }\n",
       "\n",
       "    .dataframe thead th {\n",
       "        text-align: right;\n",
       "    }\n",
       "</style>\n",
       "<table border=\"1\" class=\"dataframe\">\n",
       "  <thead>\n",
       "    <tr style=\"text-align: right;\">\n",
       "      <th></th>\n",
       "      <th>Continent</th>\n",
       "      <th>Date</th>\n",
       "      <th>Log_total_confirmed_cases</th>\n",
       "      <th>Total_confirmed_cases</th>\n",
       "    </tr>\n",
       "  </thead>\n",
       "  <tbody>\n",
       "    <tr>\n",
       "      <td>Turkey</td>\n",
       "      <td>AS</td>\n",
       "      <td>29-Apr-20</td>\n",
       "      <td>11.649665</td>\n",
       "      <td>114653.0</td>\n",
       "    </tr>\n",
       "    <tr>\n",
       "      <td>Iran</td>\n",
       "      <td>AS</td>\n",
       "      <td>29-Apr-20</td>\n",
       "      <td>11.435872</td>\n",
       "      <td>92584.0</td>\n",
       "    </tr>\n",
       "    <tr>\n",
       "      <td>China</td>\n",
       "      <td>AS</td>\n",
       "      <td>29-Apr-20</td>\n",
       "      <td>11.337858</td>\n",
       "      <td>83940.0</td>\n",
       "    </tr>\n",
       "    <tr>\n",
       "      <td>India</td>\n",
       "      <td>AS</td>\n",
       "      <td>29-Apr-20</td>\n",
       "      <td>10.352395</td>\n",
       "      <td>31332.0</td>\n",
       "    </tr>\n",
       "    <tr>\n",
       "      <td>Saudi Arabia</td>\n",
       "      <td>AS</td>\n",
       "      <td>29-Apr-20</td>\n",
       "      <td>9.907330</td>\n",
       "      <td>20077.0</td>\n",
       "    </tr>\n",
       "    <tr>\n",
       "      <td>Israel</td>\n",
       "      <td>AS</td>\n",
       "      <td>29-Apr-20</td>\n",
       "      <td>9.654321</td>\n",
       "      <td>15589.0</td>\n",
       "    </tr>\n",
       "    <tr>\n",
       "      <td>Singapore</td>\n",
       "      <td>AS</td>\n",
       "      <td>29-Apr-20</td>\n",
       "      <td>9.612533</td>\n",
       "      <td>14951.0</td>\n",
       "    </tr>\n",
       "    <tr>\n",
       "      <td>Pakistan</td>\n",
       "      <td>AS</td>\n",
       "      <td>29-Apr-20</td>\n",
       "      <td>9.608109</td>\n",
       "      <td>14885.0</td>\n",
       "    </tr>\n",
       "    <tr>\n",
       "      <td>Japan</td>\n",
       "      <td>AS</td>\n",
       "      <td>29-Apr-20</td>\n",
       "      <td>9.536185</td>\n",
       "      <td>13852.0</td>\n",
       "    </tr>\n",
       "    <tr>\n",
       "      <td>Qatar</td>\n",
       "      <td>AS</td>\n",
       "      <td>29-Apr-20</td>\n",
       "      <td>9.386057</td>\n",
       "      <td>11921.0</td>\n",
       "    </tr>\n",
       "  </tbody>\n",
       "</table>\n",
       "</div>"
      ],
      "text/plain": [
       "             Continent       Date  Log_total_confirmed_cases  \\\n",
       "Turkey              AS  29-Apr-20                  11.649665   \n",
       "Iran                AS  29-Apr-20                  11.435872   \n",
       "China               AS  29-Apr-20                  11.337858   \n",
       "India               AS  29-Apr-20                  10.352395   \n",
       "Saudi Arabia        AS  29-Apr-20                   9.907330   \n",
       "Israel              AS  29-Apr-20                   9.654321   \n",
       "Singapore           AS  29-Apr-20                   9.612533   \n",
       "Pakistan            AS  29-Apr-20                   9.608109   \n",
       "Japan               AS  29-Apr-20                   9.536185   \n",
       "Qatar               AS  29-Apr-20                   9.386057   \n",
       "\n",
       "              Total_confirmed_cases  \n",
       "Turkey                     114653.0  \n",
       "Iran                        92584.0  \n",
       "China                       83940.0  \n",
       "India                       31332.0  \n",
       "Saudi Arabia                20077.0  \n",
       "Israel                      15589.0  \n",
       "Singapore                   14951.0  \n",
       "Pakistan                    14885.0  \n",
       "Japan                       13852.0  \n",
       "Qatar                       11921.0  "
      ]
     },
     "execution_count": 18,
     "metadata": {},
     "output_type": "execute_result"
    }
   ],
   "source": [
    "# Compute the mean and standard deviation of the total confirmed cases in Asia\n",
    "print(\"Asia\")\n",
    "print(\"mean of total confirmed cases: {:.0f}\".format(np.mean(asia.Total_confirmed_cases)))\n",
    "print(\"standard deviation of total confirmed cases: {:.2f}\".format(np.std(asia.Total_confirmed_cases)))\n",
    "\n",
    "# Print the top 10 countries in Asia with the highest total confirmed cases\n",
    "asia.nlargest(10, ['Total_confirmed_cases'])"
   ]
  },
  {
   "cell_type": "markdown",
   "metadata": {},
   "source": [
    "## Compile the total confirmed cases, mean, and standard deviation into a grouped bar chart"
   ]
  },
  {
   "cell_type": "code",
   "execution_count": 21,
   "metadata": {
    "scrolled": true
   },
   "outputs": [
    {
     "data": {
      "image/png": "[encoded data removed]",
      "text/plain": [
       "<Figure size 432x288 with 1 Axes>"
      ]
     },
     "metadata": {
      "needs_background": "light"
     },
     "output_type": "display_data"
    }
   ],
   "source": [
    "EU = [covid_continents.loc[\"Europe\"].Total_confirmed_cases.max(), np.mean(europe.Total_confirmed_cases),\n",
    "          np.std(europe.Total_confirmed_cases)]\n",
    "NA = [covid_continents.loc[\"North America\"].Total_confirmed_cases.max(), np.mean(north_america.Total_confirmed_cases), \n",
    "        np.std(north_america.Total_confirmed_cases)]\n",
    "AS = [covid_continents.loc[\"Asia\"].Total_confirmed_cases.max(), np.mean(asia.Total_confirmed_cases),\n",
    "      np.std(asia.Total_confirmed_cases)]\n",
    "\n",
    "barWidth = 0.25\n",
    "r1 = np.arange(len(EU))\n",
    "r2 = [x + barWidth for x in r1]\n",
    "r3 = [x + barWidth for x in r2]\n",
    " \n",
    "plt.bar(r1, EU, color='darksalmon', width=barWidth, edgecolor='white', label='Europe')\n",
    "plt.bar(r2, NA, color='firebrick', width=barWidth, edgecolor='white', label='North America')\n",
    "plt.bar(r3, AS, color='slategrey', width=barWidth, edgecolor='white', label='Asia')\n",
    " \n",
    "plt.xticks([r + barWidth for r in range(len(EU))], ['Total Confirmed Cases', 'Mean', 'Standard Deviation'])\n",
    "plt.legend()\n",
    "plt.show()\n"
   ]
  },
  {
   "cell_type": "code",
   "execution_count": null,
   "metadata": {},
   "outputs": [],
   "source": []
  }
 ],
 "metadata": {
  "kernelspec": {
   "display_name": "Python 3",
   "language": "python",
   "name": "python3"
  },
  "language_info": {
   "codemirror_mode": {
    "name": "ipython",
    "version": 3
   },
   "file_extension": ".py",
   "mimetype": "text/x-python",
   "name": "python",
   "nbconvert_exporter": "python",
   "pygments_lexer": "ipython3",
   "version": "3.7.4"
  }
 },
 "nbformat": 4,
 "nbformat_minor": 2
}
